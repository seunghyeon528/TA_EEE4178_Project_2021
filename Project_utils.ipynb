{
  "nbformat": 4,
  "nbformat_minor": 0,
  "metadata": {
    "colab": {
      "name": "Project_2021.ipynb",
      "provenance": [],
      "collapsed_sections": [],
      "mount_file_id": "1-Kf4Y84_CtHOG9JCxVXNecqVEbvbsFFf",
      "authorship_tag": "ABX9TyOBg6vvbqG+DK8j3Uz0tWxo",
      "include_colab_link": true
    },
    "kernelspec": {
      "name": "python3",
      "display_name": "Python 3"
    },
    "language_info": {
      "name": "python"
    },
    "accelerator": "GPU"
  },
  "cells": [
    {
      "cell_type": "markdown",
      "metadata": {
        "id": "view-in-github",
        "colab_type": "text"
      },
      "source": [
        "<a href=\"https://colab.research.google.com/github/seunghyeon528/TA_EEE4178_Project_2021/blob/main/Project_utils.ipynb\" target=\"_parent\"><img src=\"https://colab.research.google.com/assets/colab-badge.svg\" alt=\"Open In Colab\"/></a>"
      ]
    },
    {
      "cell_type": "code",
      "metadata": {
        "id": "WPoZFHnKRg2s"
      },
      "source": [
        "# import modules\n",
        "import torch\n",
        "import torchvision\n",
        "import torch.nn as nn\n",
        "import torch.nn.functional as F\n",
        "from torch.utils.data import Dataset\n",
        "from torchvision import models, transforms\n",
        "\n",
        "import matplotlib.pyplot as plt\n",
        "import random\n",
        "import time\n",
        "import os\n",
        "\n",
        "import numpy as np"
      ],
      "execution_count": 1,
      "outputs": []
    },
    {
      "cell_type": "markdown",
      "metadata": {
        "id": "-Bbp4RkvjOwD"
      },
      "source": [
        "###  Google Drive Mount "
      ]
    },
    {
      "cell_type": "markdown",
      "metadata": {
        "id": "imv-Mwjxt6T_"
      },
      "source": [
        "![image.png](data:image/png;base64,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)"
      ]
    },
    {
      "cell_type": "code",
      "metadata": {
        "id": "3bB65k_VUBpB",
        "colab": {
          "base_uri": "https://localhost:8080/"
        },
        "outputId": "c0643a47-56a6-4d2a-cedc-23e3077a4a76"
      },
      "source": [
        "# mount google drive\n",
        "from google.colab import drive\n",
        "drive.mount('/content/gdrive')"
      ],
      "execution_count": 2,
      "outputs": [
        {
          "output_type": "stream",
          "name": "stdout",
          "text": [
            "Mounted at /content/gdrive\n"
          ]
        }
      ]
    },
    {
      "cell_type": "markdown",
      "metadata": {
        "id": "0OO8AwqKjbDp"
      },
      "source": [
        "### Unzip dataset"
      ]
    },
    {
      "cell_type": "code",
      "metadata": {
        "id": "Y0jBanPeKWka"
      },
      "source": [
        "# unzip train, test dataset\n",
        "!cd /content/gdrive/MyDrive/Colab_models\n",
        "!unzip /content/gdrive/MyDrive/Project_dataset/Font_npy_90_test.zip\n",
        "!unzip /content/gdrive/MyDrive/Project_dataset/Font_npy_90_train.zip\n",
        "!unzip /content/gdrive/MyDrive/Project_dataset/Font_npy_90_val.zip"
      ],
      "execution_count": null,
      "outputs": []
    },
    {
      "cell_type": "markdown",
      "metadata": {
        "id": "QOJTByoijtHF"
      },
      "source": [
        "### Custom dataset & dataloader"
      ]
    },
    {
      "cell_type": "code",
      "metadata": {
        "id": "qUeJiEDvTY-r",
        "colab": {
          "base_uri": "https://localhost:8080/"
        },
        "outputId": "bf1702e4-b606-41ae-b4fa-ffe09827e7bf"
      },
      "source": [
        "# load dataset\n",
        "import glob\n",
        "class MyDataset(Dataset):\n",
        "    def __init__(self, npy_dir): # image file (*.npy) 들을 포함하고 있는 디렉토리 경로 받아야\n",
        "        self.dir_path = npy_dir\n",
        "        self.to_tensor = transforms.ToTensor()\n",
        "\n",
        "        # all npy path\n",
        "        self.npy_path = glob.glob(os.path.join(npy_dir, '*','*.npy')) \n",
        "\n",
        "    def __getitem__(self, index):\n",
        "        # load data\n",
        "        single_data_path = self.npy_path[index]\n",
        "        data = np.load(single_data_path, allow_pickle=True)\n",
        "        \n",
        "        image = data[0]\n",
        "        image = self.to_tensor(image)\n",
        "        label = data[1]\n",
        "       \n",
        "        return (image, label)\n",
        "\n",
        "    def __len__(self):\n",
        "        return len(self.npy_path)\n",
        "\n",
        "\n",
        "\n",
        "train_data = MyDataset(\"/content/Font_npy_90_train\") \n",
        "valid_data = MyDataset(\"/content/Font_npy_90_val\")\n",
        "test_data = MyDataset(\"/content/Font_npy_90_test\")\n",
        "\n",
        "print(len(train_data))\n",
        "print(len(valid_data))\n",
        "print(len(test_data))"
      ],
      "execution_count": 4,
      "outputs": [
        {
          "output_type": "stream",
          "name": "stdout",
          "text": [
            "37232\n",
            "7800\n",
            "7800\n"
          ]
        }
      ]
    },
    {
      "cell_type": "code",
      "metadata": {
        "id": "GtRmxsFlTZ-X",
        "colab": {
          "base_uri": "https://localhost:8080/"
        },
        "outputId": "62229706-d4d4-4748-97c0-0ffc28cf3554"
      },
      "source": [
        "# define dataloader\n",
        "batch_size = 50\n",
        "train_loader = torch.utils.data.DataLoader(dataset=train_data,\n",
        "                                           batch_size=batch_size,\n",
        "                                           shuffle=True)\n",
        "\n",
        "valid_loader = torch.utils.data.DataLoader(dataset=valid_data,\n",
        "                                           batch_size=batch_size,\n",
        "                                           shuffle=True)\n",
        "\n",
        "test_loader = torch.utils.data.DataLoader(dataset=test_data,\n",
        "                                           batch_size=batch_size,\n",
        "                                           shuffle=False)\n",
        "\n",
        "\n",
        "\n",
        "# check dataloader\n",
        "image,label = next(iter(valid_loader))\n",
        "print(image.shape)\n",
        "print(label.shape)"
      ],
      "execution_count": 5,
      "outputs": [
        {
          "output_type": "stream",
          "name": "stdout",
          "text": [
            "torch.Size([50, 1, 90, 90])\n",
            "torch.Size([50])\n"
          ]
        }
      ]
    },
    {
      "cell_type": "code",
      "metadata": {
        "colab": {
          "base_uri": "https://localhost:8080/",
          "height": 123
        },
        "id": "Vgkv5vbrTbzH",
        "outputId": "9558d4c3-ac3c-4052-9289-de01fd35c5bd"
      },
      "source": [
        "# visualize data\n",
        "# character - encoded_label dict\n",
        "label_dict = {'0': 0, '1': 1, '2': 2, '3': 3, '4': 4, '5': 5, '6': 6, '7': 7, '8': 8, '9': 9, \n",
        "'A': 10, 'B': 11, 'C': 12, 'D': 13, 'E': 14, 'F': 15, 'G': 16, 'H': 17,\n",
        "'I': 18, 'J': 19, 'K': 20, 'L': 21, 'M': 22, 'N': 23, 'P': 24, 'Q': 25, \n",
        "'R': 26, 'S': 27, 'T': 28, 'U': 29, 'V': 30, 'W': 31, 'X': 32, 'Y': 33, \n",
        "'Z': 34, 'a': 35, 'b': 36, 'd': 37, 'e': 38, 'f': 39, 'g': 40, 'h': 41, \n",
        "'i': 42, 'j': 43, 'm': 44, 'n': 45, 'o': 46, 'q': 47, 'r': 48, 't': 49, 'u': 50, 'y': 51}\n",
        "\n",
        "# image_show function : num 수 만큼 dataset 내의 data를 보여주는 함수\n",
        "\n",
        "def image_show(dataset, num):\n",
        "  fig = plt.figure(figsize=(10,10))\n",
        "\n",
        "  for i in range(num):\n",
        "    plt.subplot(1, num, i+1)\n",
        "    plt.imshow(dataset[i+20000][0].squeeze(), cmap = \"gray\")\n",
        "    plt.title(dataset[i+20000][1])\n",
        "\n",
        "image_show(train_data, 8)"
      ],
      "execution_count": 17,
      "outputs": [
        {
          "output_type": "display_data",
          "data": {
            "image/png": "[encoded data removed]",
            "text/plain": [
              "<Figure size 720x720 with 8 Axes>"
            ]
          },
          "metadata": {
            "needs_background": "light"
          }
        }
      ]
    },
    {
      "cell_type": "markdown",
      "metadata": {
        "id": "rILeeNKTj-29"
      },
      "source": [
        "### Check GPU Configuration"
      ]
    },
    {
      "cell_type": "code",
      "metadata": {
        "colab": {
          "base_uri": "https://localhost:8080/"
        },
        "id": "nnNB9hj9PchN",
        "outputId": "362730bc-3393-4be1-dd43-f631a92073a7"
      },
      "source": [
        "# device configuration\n",
        "device = torch.device('cuda' if torch.cuda.is_available() else 'cpu')\n",
        "!nvidia-smi"
      ],
      "execution_count": 9,
      "outputs": [
        {
          "output_type": "stream",
          "name": "stdout",
          "text": [
            "NVIDIA-SMI has failed because it couldn't communicate with the NVIDIA driver. Make sure that the latest NVIDIA driver is installed and running.\n",
            "\n"
          ]
        }
      ]
    },
    {
      "cell_type": "markdown",
      "metadata": {
        "id": "G2nx3PPjujWj"
      },
      "source": [
        "### Fix seed"
      ]
    },
    {
      "cell_type": "code",
      "metadata": {
        "id": "6a12HKrkkjYk"
      },
      "source": [
        "# FIX SEED\n",
        "SEED = 1234\n",
        "random.seed(SEED)\n",
        "torch.manual_seed(SEED)\n",
        "torch.cuda.manual_seed(SEED)"
      ],
      "execution_count": 10,
      "outputs": []
    }
  ]
}