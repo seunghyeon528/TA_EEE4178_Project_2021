{
  "nbformat": 4,
  "nbformat_minor": 0,
  "metadata": {
    "colab": {
      "name": "Project_2021.ipynb",
      "provenance": [],
      "collapsed_sections": [],
      "mount_file_id": "1-Kf4Y84_CtHOG9JCxVXNecqVEbvbsFFf",
      "authorship_tag": "ABX9TyPmaTCLRBJu6n61MslYGdwB",
      "include_colab_link": true
    },
    "kernelspec": {
      "name": "python3",
      "display_name": "Python 3"
    },
    "language_info": {
      "name": "python"
    },
    "accelerator": "GPU"
  },
  "cells": [
    {
      "cell_type": "markdown",
      "metadata": {
        "id": "view-in-github",
        "colab_type": "text"
      },
      "source": [
        "<a href=\"https://colab.research.google.com/github/seunghyeon528/TA_EEE4178_Project_2021/blob/main/Project_utils.ipynb\" target=\"_parent\"><img src=\"https://colab.research.google.com/assets/colab-badge.svg\" alt=\"Open In Colab\"/></a>"
      ]
    },
    {
      "cell_type": "code",
      "metadata": {
        "id": "WPoZFHnKRg2s"
      },
      "source": [
        "# import modules\n",
        "import torch\n",
        "import torchvision\n",
        "import torch.nn as nn\n",
        "import torch.nn.functional as F\n",
        "from torch.utils.data import Dataset\n",
        "from torchvision import models, transforms\n",
        "\n",
        "import matplotlib.pyplot as plt\n",
        "import random\n",
        "import time\n",
        "import os\n",
        "\n",
        "import numpy as np"
      ],
      "execution_count": null,
      "outputs": []
    },
    {
      "cell_type": "markdown",
      "metadata": {
        "id": "-Bbp4RkvjOwD"
      },
      "source": [
        "###  Google Drive Mount "
      ]
    },
    {
      "cell_type": "code",
      "metadata": {
        "id": "3bB65k_VUBpB",
        "colab": {
          "base_uri": "https://localhost:8080/"
        },
        "outputId": "2ca929cf-5690-48b0-a6e1-3e061b115ac8"
      },
      "source": [
        "# mount google drive\n",
        "from google.colab import drive\n",
        "drive.mount('/content/gdrive')"
      ],
      "execution_count": null,
      "outputs": [
        {
          "output_type": "stream",
          "name": "stdout",
          "text": [
            "Mounted at /content/gdrive\n"
          ]
        }
      ]
    },
    {
      "cell_type": "markdown",
      "metadata": {
        "id": "0OO8AwqKjbDp"
      },
      "source": [
        "### Unzip dataset"
      ]
    },
    {
      "cell_type": "code",
      "metadata": {
        "id": "Y0jBanPeKWka"
      },
      "source": [
        "# unzip train, test dataset\n",
        "!cd /content/gdrive/MyDrive/Colab_models\n",
        "!unzip /content/gdrive/MyDrive/Project_dataset/Font_npy_90_test.zip\n",
        "!unzip /content/gdrive/MyDrive/Project_dataset/Font_npy_90_train.zip\n",
        "!unzip /content/gdrive/MyDrive/Project_dataset/Font_npy_90_val.zip"
      ],
      "execution_count": null,
      "outputs": []
    },
    {
      "cell_type": "markdown",
      "metadata": {
        "id": "QOJTByoijtHF"
      },
      "source": [
        "### Custom dataset & dataloader"
      ]
    },
    {
      "cell_type": "code",
      "metadata": {
        "id": "qUeJiEDvTY-r",
        "colab": {
          "base_uri": "https://localhost:8080/"
        },
        "outputId": "b28c1ea3-7e06-4f9b-9b59-d6ec370ae27d"
      },
      "source": [
        "# load dataset\n",
        "import glob\n",
        "class MyDataset(Dataset):\n",
        "    def __init__(self, npy_dir): # image file (*.npy) 들을 포함하고 있는 디렉토리 경로 받아야\n",
        "        self.dir_path = npy_dir\n",
        "        self.to_tensor = transforms.ToTensor()\n",
        "\n",
        "        # all npy path\n",
        "        self.npy_path = glob.glob(os.path.join(npy_dir, '*','*.npy')) \n",
        "\n",
        "    def __getitem__(self, index):\n",
        "        # load data\n",
        "        single_data_path = self.npy_path[index]\n",
        "        data = np.load(single_data_path, allow_pickle=True)\n",
        "        \n",
        "        image = data[0]\n",
        "        image = self.to_tensor(image)\n",
        "        label = data[1]\n",
        "       \n",
        "        return (image, label)\n",
        "\n",
        "    def __len__(self):\n",
        "        return len(self.npy_path)\n",
        "\n",
        "\n",
        "\n",
        "train_data = MyDataset(\"/content/Font_npy_90_train\") \n",
        "valid_data = MyDataset(\"/content/Font_npy_90_val\")\n",
        "test_data = MyDataset(\"/content/Font_npy_90_test\")\n",
        "\n",
        "print(len(train_data))\n",
        "print(len(valid_data))\n",
        "print(len(test_data))"
      ],
      "execution_count": null,
      "outputs": [
        {
          "output_type": "stream",
          "name": "stdout",
          "text": [
            "37232\n",
            "7800\n",
            "7800\n"
          ]
        }
      ]
    },
    {
      "cell_type": "code",
      "metadata": {
        "id": "GtRmxsFlTZ-X",
        "colab": {
          "base_uri": "https://localhost:8080/"
        },
        "outputId": "75ab045d-fa9b-48fd-84e9-4d2611abc6e6"
      },
      "source": [
        "# define dataloader\n",
        "batch_size = 50\n",
        "train_loader = torch.utils.data.DataLoader(dataset=train_data,\n",
        "                                           batch_size=batch_size,\n",
        "                                           shuffle=True)\n",
        "\n",
        "valid_loader = torch.utils.data.DataLoader(dataset=valid_data,\n",
        "                                           batch_size=batch_size,\n",
        "                                           shuffle=True)\n",
        "\n",
        "test_loader = torch.utils.data.DataLoader(dataset=test_data,\n",
        "                                           batch_size=batch_size,\n",
        "                                           shuffle=False)\n",
        "\n",
        "\n",
        "\n",
        "# check dataloader\n",
        "image,label = next(iter(valid_loader))\n",
        "print(image.shape)\n",
        "print(label.shape)"
      ],
      "execution_count": null,
      "outputs": [
        {
          "output_type": "stream",
          "name": "stdout",
          "text": [
            "torch.Size([50, 1, 90, 90])\n",
            "torch.Size([50])\n"
          ]
        }
      ]
    },
    {
      "cell_type": "code",
      "metadata": {
        "colab": {
          "base_uri": "https://localhost:8080/",
          "height": 556
        },
        "id": "Vgkv5vbrTbzH",
        "outputId": "1a28a5b8-5499-4f6f-ce5f-9bfbc7984101"
      },
      "source": [
        "# visualize data\n",
        "# image_show function : num 수 만큼 dataset 내의 data를 보여주는 함수\n",
        "\n",
        "def image_show(dataset, num):\n",
        "  fig = plt.figure(figsize=(10,10))\n",
        "\n",
        "  for i in range(num):\n",
        "    plt.subplot(1, num, i+1)\n",
        "    plt.imshow(dataset[i][0].squeeze(), cmap = \"gray\")\n",
        "    plt.title(dataset[i][1])\n",
        "\n",
        "image_show(train_data, 3)"
      ],
      "execution_count": null,
      "outputs": [
        {
          "output_type": "display_data",
          "data": {
            "image/png": "[encoded data removed]",
            "text/plain": [
              "<Figure size 2160x2160 with 3 Axes>"
            ]
          },
          "metadata": {
            "needs_background": "light"
          }
        }
      ]
    },
    {
      "cell_type": "markdown",
      "metadata": {
        "id": "rILeeNKTj-29"
      },
      "source": [
        "### Check GPU Configuration"
      ]
    },
    {
      "cell_type": "code",
      "metadata": {
        "colab": {
          "base_uri": "https://localhost:8080/"
        },
        "id": "nnNB9hj9PchN",
        "outputId": "a3382ff0-d93f-4f7c-b4f2-dea87c3e07b2"
      },
      "source": [
        "# device configuration\n",
        "device = torch.device('cuda' if torch.cuda.is_available() else 'cpu')\n",
        "!nvidia-smi"
      ],
      "execution_count": null,
      "outputs": [
        {
          "output_type": "stream",
          "name": "stdout",
          "text": [
            "NVIDIA-SMI has failed because it couldn't communicate with the NVIDIA driver. Make sure that the latest NVIDIA driver is installed and running.\n",
            "\n"
          ]
        }
      ]
    },
    {
      "cell_type": "code",
      "metadata": {
        "id": "6a12HKrkkjYk"
      },
      "source": [
        "# FIX SEED\n",
        "SEED = 1234\n",
        "random.seed(SEED)\n",
        "torch.manual_seed(SEED)\n",
        "torch.cuda.manual_seed(SEED)"
      ],
      "execution_count": null,
      "outputs": []
    }
  ]
}